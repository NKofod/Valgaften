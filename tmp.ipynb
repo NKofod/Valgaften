{
 "cells": [
  {
   "cell_type": "code",
   "execution_count": 13,
   "metadata": {},
   "outputs": [],
   "source": [
    "import json \n",
    "import numpy\n"
   ]
  },
  {
   "cell_type": "code",
   "execution_count": 14,
   "metadata": {},
   "outputs": [],
   "source": [
    "import json \n",
    "\n",
    "with open(\"./data/geo/opstilling.geojson\",\"r\") as infile:\n",
    "    tmp = json.load(infile)\n",
    "    for i in enumerate(tmp['features']):\n",
    "        tmp['features'][i[0]]['properties']['opstilling'] = str(int(tmp['features'][i[0]]['properties']['opstilling'])+19)\n",
    "        tmp['features'][i[0]]['properties']['storkredsn'] = str(int(tmp['features'][i[0]]['properties']['storkredsn'])+9)\n",
    "    tmp = tmp['features']"
   ]
  },
  {
   "cell_type": "code",
   "execution_count": 15,
   "metadata": {},
   "outputs": [],
   "source": [
    "def flatten_list(_2d_list):\n",
    "    flat_list = []\n",
    "    # Iterate through the outer list\n",
    "    for element in _2d_list:\n",
    "        if type(element) is list:\n",
    "            # If the element is of type list, iterate through the sublist\n",
    "            for item in element:\n",
    "                flat_list.append(item)\n",
    "        else:\n",
    "            flat_list.append(element)\n",
    "    return flat_list    "
   ]
  },
  {
   "cell_type": "code",
   "execution_count": 16,
   "metadata": {},
   "outputs": [],
   "source": [
    "tmp_list = []\n",
    "for i in tmp:\n",
    "    tmp_list.append(i['geometry']['coordinates'])"
   ]
  },
  {
   "cell_type": "code",
   "execution_count": 17,
   "metadata": {},
   "outputs": [],
   "source": [
    "tmp_list = flatten_list(tmp_list)\n",
    "tmp_list = flatten_list(tmp_list)\n",
    "tmp_list = flatten_list(tmp_list)\n",
    "tmp_list = flatten_list(tmp_list)\n",
    "tmp_list = flatten_list(tmp_list)\n"
   ]
  },
  {
   "cell_type": "code",
   "execution_count": 18,
   "metadata": {},
   "outputs": [],
   "source": [
    "max_x = 0 \n",
    "min_x = 10 ** 9 \n",
    "max_y = 0 \n",
    "min_y = 10 ** 9 \n"
   ]
  },
  {
   "cell_type": "code",
   "execution_count": 19,
   "metadata": {},
   "outputs": [],
   "source": [
    "tmp_count = 0 \n",
    "for i in tmp_list: \n",
    "    if tmp_count == 0:\n",
    "        if max_x < i: \n",
    "            max_x = i \n",
    "        if min_x > i:\n",
    "            min_x = i \n",
    "        tmp_count += 1\n",
    "        continue \n",
    "    elif tmp_count == 1: \n",
    "        if max_y < i: \n",
    "            max_y = i \n",
    "        if min_y > i:\n",
    "            min_y = i \n",
    "        tmp_count += 1\n",
    "        continue \n",
    "    else:\n",
    "        tmp_count = 0 \n"
   ]
  },
  {
   "cell_type": "code",
   "execution_count": 20,
   "metadata": {},
   "outputs": [
    {
     "name": "stdout",
     "output_type": "stream",
     "text": [
      "793139.192521573\n",
      "638761.1652883086\n"
     ]
    }
   ],
   "source": [
    "print(max_x - min_x)\n",
    "print(max_y - min_y)"
   ]
  },
  {
   "cell_type": "code",
   "execution_count": 21,
   "metadata": {},
   "outputs": [],
   "source": [
    "for i in tmp: \n",
    "    tmp_list = i['geometry']['coordinates']\n",
    "    tmp_list = flatten_list(tmp_list)\n",
    "    tmp_list = flatten_list(tmp_list)\n",
    "    tmp_list = flatten_list(tmp_list)\n",
    "    tmp_list = flatten_list(tmp_list)\n",
    "    tmp_list = flatten_list(tmp_list)\n",
    "    x_list = []\n",
    "    y_list = []\n",
    "    count = 0 \n",
    "    for k in tmp_list:\n",
    "        if count == 0: \n",
    "            x_list.append((k - min_x)/1000)\n",
    "            count += 1 \n",
    "        elif count == 1: \n",
    "            y_list.append((k - min_y)/1000)\n",
    "            count += 1 \n",
    "        else:\n",
    "            count = 0 \n",
    "            continue \n",
    "    coordinates = []\n",
    "    for idx, x in enumerate(x_list): \n",
    "        coordinates.append(x)\n",
    "        coordinates.append(y_list[idx])\n",
    "    i['geometry']['coordinates'] = coordinates\n",
    "        "
   ]
  },
  {
   "cell_type": "code",
   "execution_count": null,
   "metadata": {},
   "outputs": [],
   "source": [
    "tmp_geo = tmp \n",
    "with open(\"./test_data/geo/opstilling_modified.json\",\"w\") as outfile:\n",
    "    json.dump(tmp_geo,outfile,indent=4,ensure_ascii=False)"
   ]
  }
 ],
 "metadata": {
  "kernelspec": {
   "display_name": "Python 3.10.6 64-bit",
   "language": "python",
   "name": "python3"
  },
  "language_info": {
   "codemirror_mode": {
    "name": "ipython",
    "version": 3
   },
   "file_extension": ".py",
   "mimetype": "text/x-python",
   "name": "python",
   "nbconvert_exporter": "python",
   "pygments_lexer": "ipython3",
   "version": "3.10.6"
  },
  "orig_nbformat": 4,
  "vscode": {
   "interpreter": {
    "hash": "e7370f93d1d0cde622a1f8e1c04877d8463912d04d973331ad4851f04de6915a"
   }
  }
 },
 "nbformat": 4,
 "nbformat_minor": 2
}
